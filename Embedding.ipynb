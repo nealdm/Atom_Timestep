{
 "cells": [
  {
   "cell_type": "code",
   "execution_count": null,
   "metadata": {},
   "outputs": [],
   "source": [
    "# create a new embedding vector as follows:\n",
    "# atom = [number of protons, number of neutrons, number of electrons]\n",
    "\n",
    "# also, we want the data to be of the form [X,Y,Z,P,N,E]\n",
    "# Where:\n",
    "# X,Y,Z are all distance matricies, with the atom in question at the center \n",
    "# being represented as the first of all the atoms, and all the other atoms \n",
    "# in random order (their numerically encoded positions thus bearing more weight than \n",
    "# their index position in the list)\n",
    "# P,N,E represent the protons, neutrons, and electrons.  How should they be represented?"
   ]
  }
 ],
 "metadata": {
  "kernelspec": {
   "display_name": "Python 3",
   "language": "python",
   "name": "python3"
  },
  "language_info": {
   "codemirror_mode": {
    "name": "ipython",
    "version": 3
   },
   "file_extension": ".py",
   "mimetype": "text/x-python",
   "name": "python",
   "nbconvert_exporter": "python",
   "pygments_lexer": "ipython3",
   "version": "3.7.3"
  }
 },
 "nbformat": 4,
 "nbformat_minor": 2
}
